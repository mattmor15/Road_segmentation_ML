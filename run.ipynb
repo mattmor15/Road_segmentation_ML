{
  "cells": [
    {
      "cell_type": "markdown",
      "metadata": {
        "id": "KuGnuQLONt4r"
      },
      "source": [
        "# Setup"
      ]
    },
    {
      "cell_type": "markdown",
      "metadata": {
        "id": "8oOJXaKgN0Er"
      },
      "source": [
        "In order to run this notebook on Google Colaboratory, it would be easiest to save the downloaded image folder on your Google Drive and mount it to colab."
      ]
    },
    {
      "cell_type": "code",
      "execution_count": 1,
      "metadata": {
        "colab": {
          "base_uri": "https://localhost:8080/"
        },
        "id": "FJUlUEJsgzxR",
        "outputId": "86256262-e0e3-4032-b233-cddac65cef81"
      },
      "outputs": [
        {
          "output_type": "stream",
          "name": "stdout",
          "text": [
            "Mounted at /content/drive\n"
          ]
        }
      ],
      "source": [
        "from google.colab import drive\n",
        "drive.mount('/content/drive')"
      ]
    },
    {
      "cell_type": "code",
      "execution_count": 2,
      "metadata": {
        "colab": {
          "base_uri": "https://localhost:8080/"
        },
        "id": "xyfVIIf9MUvP",
        "outputId": "cd0ff0fb-8af2-4932-80a9-a403052ab958"
      },
      "outputs": [
        {
          "output_type": "stream",
          "name": "stdout",
          "text": [
            "Collecting segmentation_models_pytorch\n",
            "  Downloading segmentation_models_pytorch-0.3.3-py3-none-any.whl (106 kB)\n",
            "\u001b[2K     \u001b[90m━━━━━━━━━━━━━━━━━━━━━━━━━━━━━━━━━━━━━━━━\u001b[0m \u001b[32m106.7/106.7 kB\u001b[0m \u001b[31m1.0 MB/s\u001b[0m eta \u001b[36m0:00:00\u001b[0m\n",
            "\u001b[?25hRequirement already satisfied: torchvision>=0.5.0 in /usr/local/lib/python3.10/dist-packages (from segmentation_models_pytorch) (0.16.0+cu121)\n",
            "Collecting pretrainedmodels==0.7.4 (from segmentation_models_pytorch)\n",
            "  Downloading pretrainedmodels-0.7.4.tar.gz (58 kB)\n",
            "\u001b[2K     \u001b[90m━━━━━━━━━━━━━━━━━━━━━━━━━━━━━━━━━━━━━━━━\u001b[0m \u001b[32m58.8/58.8 kB\u001b[0m \u001b[31m4.4 MB/s\u001b[0m eta \u001b[36m0:00:00\u001b[0m\n",
            "\u001b[?25h  Preparing metadata (setup.py) ... \u001b[?25l\u001b[?25hdone\n",
            "Collecting efficientnet-pytorch==0.7.1 (from segmentation_models_pytorch)\n",
            "  Downloading efficientnet_pytorch-0.7.1.tar.gz (21 kB)\n",
            "  Preparing metadata (setup.py) ... \u001b[?25l\u001b[?25hdone\n",
            "Collecting timm==0.9.2 (from segmentation_models_pytorch)\n",
            "  Downloading timm-0.9.2-py3-none-any.whl (2.2 MB)\n",
            "\u001b[2K     \u001b[90m━━━━━━━━━━━━━━━━━━━━━━━━━━━━━━━━━━━━━━━━\u001b[0m \u001b[32m2.2/2.2 MB\u001b[0m \u001b[31m9.3 MB/s\u001b[0m eta \u001b[36m0:00:00\u001b[0m\n",
            "\u001b[?25hRequirement already satisfied: tqdm in /usr/local/lib/python3.10/dist-packages (from segmentation_models_pytorch) (4.66.1)\n",
            "Requirement already satisfied: pillow in /usr/local/lib/python3.10/dist-packages (from segmentation_models_pytorch) (9.4.0)\n",
            "Requirement already satisfied: torch in /usr/local/lib/python3.10/dist-packages (from efficientnet-pytorch==0.7.1->segmentation_models_pytorch) (2.1.0+cu121)\n",
            "Collecting munch (from pretrainedmodels==0.7.4->segmentation_models_pytorch)\n",
            "  Downloading munch-4.0.0-py2.py3-none-any.whl (9.9 kB)\n",
            "Requirement already satisfied: pyyaml in /usr/local/lib/python3.10/dist-packages (from timm==0.9.2->segmentation_models_pytorch) (6.0.1)\n",
            "Requirement already satisfied: huggingface-hub in /usr/local/lib/python3.10/dist-packages (from timm==0.9.2->segmentation_models_pytorch) (0.19.4)\n",
            "Requirement already satisfied: safetensors in /usr/local/lib/python3.10/dist-packages (from timm==0.9.2->segmentation_models_pytorch) (0.4.1)\n",
            "Requirement already satisfied: numpy in /usr/local/lib/python3.10/dist-packages (from torchvision>=0.5.0->segmentation_models_pytorch) (1.23.5)\n",
            "Requirement already satisfied: requests in /usr/local/lib/python3.10/dist-packages (from torchvision>=0.5.0->segmentation_models_pytorch) (2.31.0)\n",
            "Requirement already satisfied: filelock in /usr/local/lib/python3.10/dist-packages (from torch->efficientnet-pytorch==0.7.1->segmentation_models_pytorch) (3.13.1)\n",
            "Requirement already satisfied: typing-extensions in /usr/local/lib/python3.10/dist-packages (from torch->efficientnet-pytorch==0.7.1->segmentation_models_pytorch) (4.5.0)\n",
            "Requirement already satisfied: sympy in /usr/local/lib/python3.10/dist-packages (from torch->efficientnet-pytorch==0.7.1->segmentation_models_pytorch) (1.12)\n",
            "Requirement already satisfied: networkx in /usr/local/lib/python3.10/dist-packages (from torch->efficientnet-pytorch==0.7.1->segmentation_models_pytorch) (3.2.1)\n",
            "Requirement already satisfied: jinja2 in /usr/local/lib/python3.10/dist-packages (from torch->efficientnet-pytorch==0.7.1->segmentation_models_pytorch) (3.1.2)\n",
            "Requirement already satisfied: fsspec in /usr/local/lib/python3.10/dist-packages (from torch->efficientnet-pytorch==0.7.1->segmentation_models_pytorch) (2023.6.0)\n",
            "Requirement already satisfied: triton==2.1.0 in /usr/local/lib/python3.10/dist-packages (from torch->efficientnet-pytorch==0.7.1->segmentation_models_pytorch) (2.1.0)\n",
            "Requirement already satisfied: packaging>=20.9 in /usr/local/lib/python3.10/dist-packages (from huggingface-hub->timm==0.9.2->segmentation_models_pytorch) (23.2)\n",
            "Requirement already satisfied: charset-normalizer<4,>=2 in /usr/local/lib/python3.10/dist-packages (from requests->torchvision>=0.5.0->segmentation_models_pytorch) (3.3.2)\n",
            "Requirement already satisfied: idna<4,>=2.5 in /usr/local/lib/python3.10/dist-packages (from requests->torchvision>=0.5.0->segmentation_models_pytorch) (3.6)\n",
            "Requirement already satisfied: urllib3<3,>=1.21.1 in /usr/local/lib/python3.10/dist-packages (from requests->torchvision>=0.5.0->segmentation_models_pytorch) (2.0.7)\n",
            "Requirement already satisfied: certifi>=2017.4.17 in /usr/local/lib/python3.10/dist-packages (from requests->torchvision>=0.5.0->segmentation_models_pytorch) (2023.11.17)\n",
            "Requirement already satisfied: MarkupSafe>=2.0 in /usr/local/lib/python3.10/dist-packages (from jinja2->torch->efficientnet-pytorch==0.7.1->segmentation_models_pytorch) (2.1.3)\n",
            "Requirement already satisfied: mpmath>=0.19 in /usr/local/lib/python3.10/dist-packages (from sympy->torch->efficientnet-pytorch==0.7.1->segmentation_models_pytorch) (1.3.0)\n",
            "Building wheels for collected packages: efficientnet-pytorch, pretrainedmodels\n",
            "  Building wheel for efficientnet-pytorch (setup.py) ... \u001b[?25l\u001b[?25hdone\n",
            "  Created wheel for efficientnet-pytorch: filename=efficientnet_pytorch-0.7.1-py3-none-any.whl size=16428 sha256=440323efaff34bd8fa42836ce5e00162b1617f8ae6c8202dca56d676a14d78e4\n",
            "  Stored in directory: /root/.cache/pip/wheels/03/3f/e9/911b1bc46869644912bda90a56bcf7b960f20b5187feea3baf\n",
            "  Building wheel for pretrainedmodels (setup.py) ... \u001b[?25l\u001b[?25hdone\n",
            "  Created wheel for pretrainedmodels: filename=pretrainedmodels-0.7.4-py3-none-any.whl size=60945 sha256=4b23eb349fa789e84a0c46bd6d56c994e58264917b46b3f6c346d612843ba379\n",
            "  Stored in directory: /root/.cache/pip/wheels/35/cb/a5/8f534c60142835bfc889f9a482e4a67e0b817032d9c6883b64\n",
            "Successfully built efficientnet-pytorch pretrainedmodels\n",
            "Installing collected packages: munch, efficientnet-pytorch, timm, pretrainedmodels, segmentation_models_pytorch\n",
            "Successfully installed efficientnet-pytorch-0.7.1 munch-4.0.0 pretrainedmodels-0.7.4 segmentation_models_pytorch-0.3.3 timm-0.9.2\n",
            "Collecting lightning\n",
            "  Downloading lightning-2.1.2-py3-none-any.whl (2.0 MB)\n",
            "\u001b[2K     \u001b[90m━━━━━━━━━━━━━━━━━━━━━━━━━━━━━━━━━━━━━━━━\u001b[0m \u001b[32m2.0/2.0 MB\u001b[0m \u001b[31m8.7 MB/s\u001b[0m eta \u001b[36m0:00:00\u001b[0m\n",
            "\u001b[?25hRequirement already satisfied: PyYAML<8.0,>=5.4 in /usr/local/lib/python3.10/dist-packages (from lightning) (6.0.1)\n",
            "Requirement already satisfied: fsspec[http]<2025.0,>2021.06.0 in /usr/local/lib/python3.10/dist-packages (from lightning) (2023.6.0)\n",
            "Collecting lightning-utilities<2.0,>=0.8.0 (from lightning)\n",
            "  Downloading lightning_utilities-0.10.0-py3-none-any.whl (24 kB)\n",
            "Requirement already satisfied: numpy<3.0,>=1.17.2 in /usr/local/lib/python3.10/dist-packages (from lightning) (1.23.5)\n",
            "Requirement already satisfied: packaging<25.0,>=20.0 in /usr/local/lib/python3.10/dist-packages (from lightning) (23.2)\n",
            "Requirement already satisfied: torch<4.0,>=1.12.0 in /usr/local/lib/python3.10/dist-packages (from lightning) (2.1.0+cu121)\n",
            "Collecting torchmetrics<3.0,>=0.7.0 (from lightning)\n",
            "  Downloading torchmetrics-1.2.1-py3-none-any.whl (806 kB)\n",
            "\u001b[2K     \u001b[90m━━━━━━━━━━━━━━━━━━━━━━━━━━━━━━━━━━━━━━━━\u001b[0m \u001b[32m806.1/806.1 kB\u001b[0m \u001b[31m16.9 MB/s\u001b[0m eta \u001b[36m0:00:00\u001b[0m\n",
            "\u001b[?25hRequirement already satisfied: tqdm<6.0,>=4.57.0 in /usr/local/lib/python3.10/dist-packages (from lightning) (4.66.1)\n",
            "Requirement already satisfied: typing-extensions<6.0,>=4.0.0 in /usr/local/lib/python3.10/dist-packages (from lightning) (4.5.0)\n",
            "Collecting pytorch-lightning (from lightning)\n",
            "  Downloading pytorch_lightning-2.1.2-py3-none-any.whl (776 kB)\n",
            "\u001b[2K     \u001b[90m━━━━━━━━━━━━━━━━━━━━━━━━━━━━━━━━━━━━━━━━\u001b[0m \u001b[32m776.9/776.9 kB\u001b[0m \u001b[31m20.4 MB/s\u001b[0m eta \u001b[36m0:00:00\u001b[0m\n",
            "\u001b[?25hRequirement already satisfied: requests in /usr/local/lib/python3.10/dist-packages (from fsspec[http]<2025.0,>2021.06.0->lightning) (2.31.0)\n",
            "Requirement already satisfied: aiohttp!=4.0.0a0,!=4.0.0a1 in /usr/local/lib/python3.10/dist-packages (from fsspec[http]<2025.0,>2021.06.0->lightning) (3.9.1)\n",
            "Requirement already satisfied: setuptools in /usr/local/lib/python3.10/dist-packages (from lightning-utilities<2.0,>=0.8.0->lightning) (67.7.2)\n",
            "Requirement already satisfied: filelock in /usr/local/lib/python3.10/dist-packages (from torch<4.0,>=1.12.0->lightning) (3.13.1)\n",
            "Requirement already satisfied: sympy in /usr/local/lib/python3.10/dist-packages (from torch<4.0,>=1.12.0->lightning) (1.12)\n",
            "Requirement already satisfied: networkx in /usr/local/lib/python3.10/dist-packages (from torch<4.0,>=1.12.0->lightning) (3.2.1)\n",
            "Requirement already satisfied: jinja2 in /usr/local/lib/python3.10/dist-packages (from torch<4.0,>=1.12.0->lightning) (3.1.2)\n",
            "Requirement already satisfied: triton==2.1.0 in /usr/local/lib/python3.10/dist-packages (from torch<4.0,>=1.12.0->lightning) (2.1.0)\n",
            "Requirement already satisfied: attrs>=17.3.0 in /usr/local/lib/python3.10/dist-packages (from aiohttp!=4.0.0a0,!=4.0.0a1->fsspec[http]<2025.0,>2021.06.0->lightning) (23.1.0)\n",
            "Requirement already satisfied: multidict<7.0,>=4.5 in /usr/local/lib/python3.10/dist-packages (from aiohttp!=4.0.0a0,!=4.0.0a1->fsspec[http]<2025.0,>2021.06.0->lightning) (6.0.4)\n",
            "Requirement already satisfied: yarl<2.0,>=1.0 in /usr/local/lib/python3.10/dist-packages (from aiohttp!=4.0.0a0,!=4.0.0a1->fsspec[http]<2025.0,>2021.06.0->lightning) (1.9.4)\n",
            "Requirement already satisfied: frozenlist>=1.1.1 in /usr/local/lib/python3.10/dist-packages (from aiohttp!=4.0.0a0,!=4.0.0a1->fsspec[http]<2025.0,>2021.06.0->lightning) (1.4.1)\n",
            "Requirement already satisfied: aiosignal>=1.1.2 in /usr/local/lib/python3.10/dist-packages (from aiohttp!=4.0.0a0,!=4.0.0a1->fsspec[http]<2025.0,>2021.06.0->lightning) (1.3.1)\n",
            "Requirement already satisfied: async-timeout<5.0,>=4.0 in /usr/local/lib/python3.10/dist-packages (from aiohttp!=4.0.0a0,!=4.0.0a1->fsspec[http]<2025.0,>2021.06.0->lightning) (4.0.3)\n",
            "Requirement already satisfied: MarkupSafe>=2.0 in /usr/local/lib/python3.10/dist-packages (from jinja2->torch<4.0,>=1.12.0->lightning) (2.1.3)\n",
            "Requirement already satisfied: charset-normalizer<4,>=2 in /usr/local/lib/python3.10/dist-packages (from requests->fsspec[http]<2025.0,>2021.06.0->lightning) (3.3.2)\n",
            "Requirement already satisfied: idna<4,>=2.5 in /usr/local/lib/python3.10/dist-packages (from requests->fsspec[http]<2025.0,>2021.06.0->lightning) (3.6)\n",
            "Requirement already satisfied: urllib3<3,>=1.21.1 in /usr/local/lib/python3.10/dist-packages (from requests->fsspec[http]<2025.0,>2021.06.0->lightning) (2.0.7)\n",
            "Requirement already satisfied: certifi>=2017.4.17 in /usr/local/lib/python3.10/dist-packages (from requests->fsspec[http]<2025.0,>2021.06.0->lightning) (2023.11.17)\n",
            "Requirement already satisfied: mpmath>=0.19 in /usr/local/lib/python3.10/dist-packages (from sympy->torch<4.0,>=1.12.0->lightning) (1.3.0)\n",
            "Installing collected packages: lightning-utilities, torchmetrics, pytorch-lightning, lightning\n",
            "Successfully installed lightning-2.1.2 lightning-utilities-0.10.0 pytorch-lightning-2.1.2 torchmetrics-1.2.1\n",
            "Collecting wandb\n",
            "  Downloading wandb-0.16.1-py3-none-any.whl (2.1 MB)\n",
            "\u001b[2K     \u001b[90m━━━━━━━━━━━━━━━━━━━━━━━━━━━━━━━━━━━━━━━━\u001b[0m \u001b[32m2.1/2.1 MB\u001b[0m \u001b[31m10.4 MB/s\u001b[0m eta \u001b[36m0:00:00\u001b[0m\n",
            "\u001b[?25hRequirement already satisfied: Click!=8.0.0,>=7.1 in /usr/local/lib/python3.10/dist-packages (from wandb) (8.1.7)\n",
            "Collecting GitPython!=3.1.29,>=1.0.0 (from wandb)\n",
            "  Downloading GitPython-3.1.40-py3-none-any.whl (190 kB)\n",
            "\u001b[2K     \u001b[90m━━━━━━━━━━━━━━━━━━━━━━━━━━━━━━━━━━━━━━━━\u001b[0m \u001b[32m190.6/190.6 kB\u001b[0m \u001b[31m11.7 MB/s\u001b[0m eta \u001b[36m0:00:00\u001b[0m\n",
            "\u001b[?25hRequirement already satisfied: requests<3,>=2.0.0 in /usr/local/lib/python3.10/dist-packages (from wandb) (2.31.0)\n",
            "Requirement already satisfied: psutil>=5.0.0 in /usr/local/lib/python3.10/dist-packages (from wandb) (5.9.5)\n",
            "Collecting sentry-sdk>=1.0.0 (from wandb)\n",
            "  Downloading sentry_sdk-1.39.1-py2.py3-none-any.whl (254 kB)\n",
            "\u001b[2K     \u001b[90m━━━━━━━━━━━━━━━━━━━━━━━━━━━━━━━━━━━━━━━━\u001b[0m \u001b[32m254.1/254.1 kB\u001b[0m \u001b[31m15.0 MB/s\u001b[0m eta \u001b[36m0:00:00\u001b[0m\n",
            "\u001b[?25hCollecting docker-pycreds>=0.4.0 (from wandb)\n",
            "  Downloading docker_pycreds-0.4.0-py2.py3-none-any.whl (9.0 kB)\n",
            "Requirement already satisfied: PyYAML in /usr/local/lib/python3.10/dist-packages (from wandb) (6.0.1)\n",
            "Collecting setproctitle (from wandb)\n",
            "  Downloading setproctitle-1.3.3-cp310-cp310-manylinux_2_5_x86_64.manylinux1_x86_64.manylinux_2_17_x86_64.manylinux2014_x86_64.whl (30 kB)\n",
            "Requirement already satisfied: setuptools in /usr/local/lib/python3.10/dist-packages (from wandb) (67.7.2)\n",
            "Requirement already satisfied: appdirs>=1.4.3 in /usr/local/lib/python3.10/dist-packages (from wandb) (1.4.4)\n",
            "Requirement already satisfied: protobuf!=4.21.0,<5,>=3.19.0 in /usr/local/lib/python3.10/dist-packages (from wandb) (3.20.3)\n",
            "Requirement already satisfied: six>=1.4.0 in /usr/local/lib/python3.10/dist-packages (from docker-pycreds>=0.4.0->wandb) (1.16.0)\n",
            "Collecting gitdb<5,>=4.0.1 (from GitPython!=3.1.29,>=1.0.0->wandb)\n",
            "  Downloading gitdb-4.0.11-py3-none-any.whl (62 kB)\n",
            "\u001b[2K     \u001b[90m━━━━━━━━━━━━━━━━━━━━━━━━━━━━━━━━━━━━━━━━\u001b[0m \u001b[32m62.7/62.7 kB\u001b[0m \u001b[31m8.5 MB/s\u001b[0m eta \u001b[36m0:00:00\u001b[0m\n",
            "\u001b[?25hRequirement already satisfied: charset-normalizer<4,>=2 in /usr/local/lib/python3.10/dist-packages (from requests<3,>=2.0.0->wandb) (3.3.2)\n",
            "Requirement already satisfied: idna<4,>=2.5 in /usr/local/lib/python3.10/dist-packages (from requests<3,>=2.0.0->wandb) (3.6)\n",
            "Requirement already satisfied: urllib3<3,>=1.21.1 in /usr/local/lib/python3.10/dist-packages (from requests<3,>=2.0.0->wandb) (2.0.7)\n",
            "Requirement already satisfied: certifi>=2017.4.17 in /usr/local/lib/python3.10/dist-packages (from requests<3,>=2.0.0->wandb) (2023.11.17)\n",
            "Collecting smmap<6,>=3.0.1 (from gitdb<5,>=4.0.1->GitPython!=3.1.29,>=1.0.0->wandb)\n",
            "  Downloading smmap-5.0.1-py3-none-any.whl (24 kB)\n",
            "Installing collected packages: smmap, setproctitle, sentry-sdk, docker-pycreds, gitdb, GitPython, wandb\n",
            "Successfully installed GitPython-3.1.40 docker-pycreds-0.4.0 gitdb-4.0.11 sentry-sdk-1.39.1 setproctitle-1.3.3 smmap-5.0.1 wandb-0.16.1\n"
          ]
        }
      ],
      "source": [
        "# install libraries not on colab by default\n",
        "!pip install segmentation_models_pytorch\n",
        "!pip install lightning\n",
        "!pip install wandb"
      ]
    },
    {
      "cell_type": "code",
      "execution_count": 3,
      "metadata": {
        "id": "9M-SOyNrgy0e"
      },
      "outputs": [],
      "source": [
        "import os\n",
        "from pathlib import Path\n",
        "import re\n",
        "\n",
        "import torch\n",
        "from torch.utils.data import Dataset\n",
        "from torch.utils.data import DataLoader\n",
        "from torchvision import tv_tensors\n",
        "from torchvision.transforms import v2\n",
        "\n",
        "from PIL import Image\n",
        "import cv2\n",
        "\n",
        "import numpy as np\n",
        "from matplotlib.pyplot import imshow\n",
        "import matplotlib.pyplot as plt\n",
        "import matplotlib.image as mpimg\n",
        "\n",
        "\n",
        "import segmentation_models_pytorch as smp\n",
        "import pytorch_lightning as pl\n",
        "from pytorch_lightning.callbacks import ModelCheckpoint\n",
        "from pytorch_lightning import Callback\n",
        "from pytorch_lightning.loggers import WandbLogger\n",
        "import wandb\n",
        "\n",
        "from keras import backend as K\n",
        "import tensorflow as tf\n",
        "from scipy.ndimage import distance_transform_edt as distance"
      ]
    },
    {
      "cell_type": "markdown",
      "metadata": {
        "id": "ZJv8-BOqObG9"
      },
      "source": [
        "Set the following variables to the locations of your choice.\n",
        "* `DATA_DIR`:       this should be set to the image folder downloaded from the AI Crowd platform.\n",
        "* `LOG_DIR`:        a directory where your model checkpoints and other tracked statistics will be saved.\n",
        "* `SAVE_DIR`:       a directory where the prediction mask and the ground truth mask will be saved.\n",
        "* `INPUT_POST`:     a directory containing the predicted masks which you want to post-process.\n",
        "* `OUTPUT_POST`:    a directory which will contain the output of post-processing\n",
        "* `INPUT_SUB`:      a directory where the prediction masks to be converted to a csv are saved.\n",
        "* `OUTPUT_SUB`:        a directory where your submission csv file will be saved.\n",
        "* `SUB_FILENAME`:   a filename for the submission csv file to generate."
      ]
    },
    {
      "cell_type": "code",
      "execution_count": null,
      "metadata": {
        "id": "4dhuT8yOgy0g"
      },
      "outputs": [],
      "source": [
        "DATA_DIR = Path('/content/drive/MyDrive/cs-433/ML_2023_/epfml-segmentation')\n",
        "LOG_DIR = Path('/content/drive/MyDrive/cs-433/ML_2023_/logs')\n",
        "SAVE_DIR = Path(\"/content/drive/MyDrive/cs-433/ML_2023_/sub_test/test\")\n",
        "# INPUT_POST is typically SAVE_DIR/pred\n",
        "INPUT_POST = Path(\"/content/drive/MyDrive/cs-433/ML_2023_/sub_test/test/pred\")\n",
        "OUTPUT_POST = Path('/content/drive/MyDrive/cs-433/ML_2023_/sub_test/pped')\n",
        "INPUT_SUB = Path('/content/drive/MyDrive/cs-433/ML_2023_/sub_test/pped')\n",
        "OUTPUT_SUB = Path('/content/drive/MyDrive/cs-433/ML_2023_/sub_test/')\n",
        "SUB_FILENAME = 'submission_test.csv'"
      ]
    },
    {
      "cell_type": "markdown",
      "metadata": {
        "id": "HUerQlrM6Wpd"
      },
      "source": [
        "We opted in to use Weights & Biases for logging and monitoring our training.\n",
        "\n",
        "Create an account and get your API key following this instruction: https://docs.wandb.ai/quickstart"
      ]
    },
    {
      "cell_type": "code",
      "execution_count": null,
      "metadata": {
        "id": "BNjo-fsM6Wpe"
      },
      "outputs": [],
      "source": [
        "YOUR_API_KEY = ''\n",
        "wandb.login(key = YOUR_API_KEY)"
      ]
    },
    {
      "cell_type": "markdown",
      "metadata": {
        "id": "PlyUj6etOruu"
      },
      "source": [
        "Change the path below according to where you want to save the predictions in your Google Drive"
      ]
    },
    {
      "cell_type": "code",
      "execution_count": null,
      "metadata": {
        "id": "3RZgrfPGO1jk"
      },
      "outputs": [],
      "source": [
        "# Change the name of the directory according to where you saved the predictions (should be ok like that)\n",
        "input_dir_post_proc = save_dir + '/pred' # No need to change it\n",
        "\n",
        "# Change the name of the directory according to where you want to save the predictions after post processing\n",
        "output_dir_post_proc = \"/content/drive/MyDrive/ML_2023/daniel_submission2/post_processing_imgs\"\n",
        "\n",
        "# Change the name of the directory according to where you want to save the final file after post processing\n",
        "save_dir_fin = \"/content/drive/MyDrive/ML_2023/daniel_submission2/file_csv\"\n",
        "# Change the name of the directory according to where you saved the images after post processing (should be ok like that)\n",
        "img_dir = output_dir_post_proc # no need to change it\n",
        "\n",
        "submission_filename = \"submission.csv\""
      ]
    },
    {
      "cell_type": "markdown",
      "metadata": {
        "id": "AIxXSXurPe_w"
      },
      "source": [
        "# Define Transformation"
      ]
    },
    {
      "cell_type": "code",
      "execution_count": null,
      "metadata": {
        "id": "2AzJzMMdgy0g"
      },
      "outputs": [],
      "source": [
        "def get_transform(test=False):\n",
        "    if test:\n",
        "        transform = v2.Compose(\n",
        "            [\n",
        "                v2.ToImage(),\n",
        "                v2.ToDtype({tv_tensors.Image: torch.float32,\n",
        "                            tv_tensors.Mask: torch.float32}, scale=True),\n",
        "            ]\n",
        "        )\n",
        "    else:\n",
        "        transform = v2.Compose(\n",
        "            [\n",
        "                v2.ToImage(), # this has to be before v2.ToDType\n",
        "                v2.RandomResizedCrop(size=(224, 224), antialias=True),\n",
        "                v2.RandomPhotometricDistort(p=0.5),\n",
        "                v2.RandomRotation(degrees=(0, 180)),\n",
        "                v2.RandomHorizontalFlip(p=0.5),\n",
        "\n",
        "                v2.ToDtype({tv_tensors.Image: torch.float32,\n",
        "                            tv_tensors.Mask: torch.float32}, scale=True), # Scaling does not work for TV tensors\n",
        "\n",
        "            ]\n",
        "    )\n",
        "    return transform"
      ]
    },
    {
      "cell_type": "code",
      "execution_count": null,
      "metadata": {
        "id": "cPMPJ3oaVztW"
      },
      "outputs": [],
      "source": [
        "class SatelliteImageDataset(Dataset):\n",
        "    def __init__(self, data_dir, transform=None, test=False):\n",
        "        self.transform = transform if transform is not None else v2.ToTensor()\n",
        "        self.is_test = test\n",
        "        if test:\n",
        "            self.data_dir = os.path.join(data_dir, 'test_set_images')\n",
        "            images = os.listdir(self.data_dir)\n",
        "            self.images = self.__sort_image_files(images)\n",
        "        else:\n",
        "            self.data_dir = os.path.join(data_dir, 'training')\n",
        "            images = os.listdir(os.path.join(self.data_dir, 'images'))\n",
        "            self.images = self.__sort_image_files(images)\n",
        "            self.masks = os.listdir(os.path.join(self.data_dir, 'groundtruth'))\n",
        "\n",
        "    def __len__(self):\n",
        "        return len(self.images)\n",
        "\n",
        "    def __getitem__(self, idx):\n",
        "        if self.is_test:\n",
        "            img_path = os.path.join(self.data_dir, self.images[idx])\n",
        "            image = Image.open(img_path).convert(\"RGB\")\n",
        "            image = self.transform(image)\n",
        "            mask_gt = one_hot2dist_mask = None\n",
        "        else:\n",
        "            img_path = os.path.join(self.data_dir, 'images', self.images[idx])\n",
        "            mask_path = os.path.join(self.data_dir, 'groundtruth', self.masks[idx])\n",
        "\n",
        "            # Load the mask and threshold to create binary class labels\n",
        "            mask = np.array(Image.open(mask_path).convert(\"L\"))[np.newaxis, ...]\n",
        "\n",
        "            mask_gt = mask / mask.max()\n",
        "            mask_gt = tv_tensors.Mask(mask_gt)\n",
        "\n",
        "            one_hot2dist_mask = self.calc_dist_map(mask)\n",
        "            one_hot2dist_mask = tv_tensors.Mask(one_hot2dist_mask)\n",
        "\n",
        "        image = Image.open(img_path).convert(\"RGB\")\n",
        "\n",
        "        if mask_gt is None:\n",
        "            # not optimized\n",
        "            to_tensor = v2.ToImage()\n",
        "            mask_gt = one_hot2dist_mask = to_tensor(image)\n",
        "            one_hot2dist_mask = to_tensor(image)\n",
        "            image, mask_gt, one_hot2dist_mask = self.transform(image, torch.zeros_like(mask_gt), torch.zeros_like(one_hot2dist_mask))\n",
        "\n",
        "        image, mask_gt, one_hot2dist_mask = self.transform(image, mask_gt, one_hot2dist_mask)\n",
        "\n",
        "\n",
        "        sample = {\n",
        "            'image': image,\n",
        "            'mask': mask_gt,\n",
        "            'dist_mask': one_hot2dist_mask\n",
        "            }\n",
        "\n",
        "        return sample\n",
        "\n",
        "    def calc_dist_map(self, seg):\n",
        "        res = np.zeros_like(seg)\n",
        "        posmask = seg.astype(bool)\n",
        "        if posmask.any():\n",
        "            negmask = ~posmask\n",
        "            res = distance(negmask) * negmask - (distance(posmask) - 1) * posmask\n",
        "        return res\n",
        "\n",
        "    def __sort_image_files(self, image_files):\n",
        "        image_files = list(filter(lambda x: x.endswith('.png'), image_files))\n",
        "        return sorted(image_files, key=lambda x: int(x.split('_')[1].split('.')[0]))\n"
      ]
    },
    {
      "cell_type": "code",
      "execution_count": null,
      "metadata": {
        "id": "Go9lsxLOgy0_"
      },
      "outputs": [],
      "source": [
        "#torch.manual_seed(0) # set a seed for reproducibility if necessary\n",
        "train_transform = get_transform()\n",
        "test_transform = get_transform(test=True)\n",
        "dataset = SatelliteImageDataset(DATA_DIR, transform=train_transform)\n",
        "train_ds, val_ds = torch.utils.data.random_split(dataset, [int(len(dataset)*0.8), int(len(dataset)*0.2)])\n",
        "test_ds = SatelliteImageDataset(DATA_DIR, test=True, transform=test_transform)"
      ]
    },
    {
      "cell_type": "markdown",
      "metadata": {
        "id": "IIY-3dW56Wpf"
      },
      "source": [
        "Let's do a sanity check:"
      ]
    },
    {
      "cell_type": "code",
      "execution_count": null,
      "metadata": {
        "colab": {
          "base_uri": "https://localhost:8080/",
          "height": 282
        },
        "id": "WKKKb-TFgy1A",
        "outputId": "6fafc5c0-0d9e-47e3-ffbc-11aa225ce049"
      },
      "outputs": [
        {
          "output_type": "stream",
          "name": "stdout",
          "text": [
            "image shape:  torch.Size([3, 224, 224])\n",
            "mask shape:  torch.Size([1, 224, 224])\n",
            "dist mask shape:  torch.Size([1, 224, 224])\n"
          ]
        },
        {
          "output_type": "execute_result",
          "data": {
            "text/plain": [
              "<matplotlib.image.AxesImage at 0x7cc33ef45c30>"
            ]
          },
          "metadata": {},
          "execution_count": 12
        },
        {
          "output_type": "display_data",
          "data": {
            "text/plain": [
              "<Figure size 640x480 with 3 Axes>"
            ],
            "image/png": "[encoded data removed]"
          },
          "metadata": {}
        }
      ],
      "source": [
        "sample = train_ds[0]\n",
        "plt.subplot(1, 3, 1)\n",
        "image = sample['image']\n",
        "print('image shape: ', image.shape)\n",
        "imshow(image.permute(1, 2, 0))\n",
        "\n",
        "plt.subplot(1, 3, 2)\n",
        "mask = sample['mask']\n",
        "print('mask shape: ', mask.shape)\n",
        "imshow(mask.permute(1, 2, 0))\n",
        "\n",
        "plt.subplot(1, 3, 3)\n",
        "mask = sample['dist_mask']\n",
        "print('dist mask shape: ', mask.shape)\n",
        "imshow(mask.permute(1, 2, 0))"
      ]
    },
    {
      "cell_type": "code",
      "execution_count": null,
      "metadata": {
        "colab": {
          "base_uri": "https://localhost:8080/"
        },
        "id": "s89S3CGSgy1B",
        "outputId": "b9146f96-536b-449e-d4cb-b14a2ef92cee"
      },
      "outputs": [
        {
          "output_type": "stream",
          "name": "stdout",
          "text": [
            "Train size: 80\n",
            "Valid size: 20\n",
            "Test size: 50\n"
          ]
        }
      ],
      "source": [
        "print(f\"Train size: {len(train_ds)}\")\n",
        "print(f\"Valid size: {len(val_ds)}\")\n",
        "print(f\"Test size: {len(test_ds)}\")\n",
        "\n",
        "n_cpu = os.cpu_count()\n",
        "train_dataloader = DataLoader(train_ds, batch_size=20, shuffle=True, num_workers=n_cpu)\n",
        "valid_dataloader = DataLoader(val_ds, batch_size=20, shuffle=False, num_workers=n_cpu)\n",
        "test_dataloader = DataLoader(test_ds, batch_size=50, shuffle=False, num_workers=n_cpu)"
      ]
    },
    {
      "cell_type": "markdown",
      "metadata": {
        "id": "ObxWEesZPivh"
      },
      "source": [
        "# Model"
      ]
    },
    {
      "cell_type": "code",
      "execution_count": null,
      "metadata": {
        "id": "iAEEc4W66Wpf"
      },
      "outputs": [],
      "source": [
        "class RoadSegmenter(pl.LightningModule):\n",
        "    def __init__(self, arch, encoder_name, in_channels, out_classes, loss, alpha=1.0, **kwargs):\n",
        "        super().__init__()\n",
        "        self.model = smp.create_model(\n",
        "            arch, encoder_name=encoder_name, in_channels=in_channels, classes=out_classes, **kwargs\n",
        "        )\n",
        "\n",
        "        # preprocessing parameters for image\n",
        "        params = smp.encoders.get_preprocessing_params(encoder_name)\n",
        "        self.register_buffer(\"std\", torch.tensor(params[\"std\"]).view(1, 3, 1, 1))\n",
        "        self.register_buffer(\"mean\", torch.tensor(params[\"mean\"]).view(1, 3, 1, 1))\n",
        "\n",
        "        if loss == \"dice\":\n",
        "            self.loss_fn = smp.losses.DiceLoss(smp.losses.BINARY_MODE, from_logits=True)\n",
        "        elif loss == \"jaccard\":\n",
        "            self.loss_fn = smp.losses.JaccardLoss(mode='binary', from_logits=True)\n",
        "        elif loss == \"bce\":\n",
        "            self.loss_fn = torch.nn.BCEWithLogitsLoss()\n",
        "        elif loss == \"surface\":\n",
        "            self.loss_fn = self.eval_surface_loss\n",
        "        elif loss == \"combined\":\n",
        "            self.loss_fn = self.eval_combined_loss\n",
        "        else:\n",
        "            raise NotImplementedError(f\"Loss {loss} is not implemented.\")\n",
        "\n",
        "        # for version 2 >\n",
        "        self.tp_ = []\n",
        "        self.fp_ = []\n",
        "        self.fn_ = []\n",
        "        self.tn_ = []\n",
        "        self.losses = []\n",
        "        self.dice_losses = []\n",
        "        self.bd_losses = []\n",
        "\n",
        "        self.loss_type = loss\n",
        "        self.alpha = alpha  # Initialize the internal variable for alpha\n",
        "\n",
        "    def calc_dist_map(self, seg):\n",
        "        res = np.zeros_like(seg)\n",
        "        posmask = seg.astype(bool)\n",
        "\n",
        "        if posmask.any():\n",
        "            negmask = ~posmask\n",
        "            res = distance(negmask) * negmask - (distance(posmask) - 1) * posmask\n",
        "        return res\n",
        "\n",
        "    def calc_dist_map_batch(self, y_true):\n",
        "        y_true_numpy = y_true.numpy()\n",
        "        return np.array([self.calc_dist_map(y)\n",
        "                        for y in y_true_numpy]).astype(np.float32)\n",
        "\n",
        "    def surface_loss(self, y_true, y_pred):\n",
        "        y_true_dist_map = tf.py_function(func=self.calc_dist_map_batch,\n",
        "                                        inp=[y_true],\n",
        "                                        Tout=tf.float32)\n",
        "        multipled = y_pred * y_true_dist_map\n",
        "        return K.mean(multipled)\n",
        "\n",
        "    def eval_surface_loss(self, dist_mask, logits_mask):\n",
        "        # Convert PyTorch tensors to CPU-based NumPy arrays for TensorFlow operations\n",
        "        dist_mask_np = dist_mask.cpu().detach().numpy()\n",
        "        logits_mask_np = logits_mask.sigmoid().cpu().detach().numpy()\n",
        "\n",
        "        # Calculate surface loss using TensorFlow\n",
        "        y_true_tf = tf.convert_to_tensor(dist_mask_np, dtype=tf.float32)\n",
        "        y_pred_tf = tf.convert_to_tensor(logits_mask_np, dtype=tf.float32)\n",
        "        surface_loss_value = self.surface_loss(y_true_tf, y_pred_tf)\n",
        "        # Convert TensorFlow output back to PyTorch tensor and move to the correct device\n",
        "        if not isinstance(surface_loss_value, torch.Tensor):\n",
        "            surface_loss_value = torch.tensor(surface_loss_value.numpy(),\n",
        "                                              dtype=torch.float32, device=self.device,\n",
        "                                              requires_grad=True)\n",
        "        return surface_loss_value\n",
        "\n",
        "    def eval_combined_loss(self, dist_mask, logits_mask, gt_mask):\n",
        "        dice_loss_fn = smp.losses.DiceLoss(smp.losses.BINARY_MODE, from_logits=True)\n",
        "        dice_loss = dice_loss_fn(logits_mask, gt_mask)\n",
        "        surface_loss_value = self.eval_surface_loss(dist_mask, logits_mask)\n",
        "        total_loss = self.alpha * dice_loss + (1-self.alpha) * surface_loss_value\n",
        "        return {'total_loss': total_loss, 'dice_loss': dice_loss, 'surface_loss': surface_loss_value}\n",
        "\n",
        "    def forward(self, image):\n",
        "        # normalize image here\n",
        "        image = (image - self.mean) / self.std\n",
        "        mask = self.model(image)\n",
        "        return mask\n",
        "\n",
        "    def shared_step(self, batch, stage):\n",
        "        image = batch[\"image\"]\n",
        "        mask = batch[\"mask\"]\n",
        "        dist_mask = batch[\"dist_mask\"]\n",
        "\n",
        "        logits_mask = self.forward(image)\n",
        "\n",
        "        # Dice loss\n",
        "        if self.loss_type == \"dice\":\n",
        "            loss = self.loss_fn(logits_mask, mask)\n",
        "        elif self.loss_type == \"surface\":\n",
        "            loss = self.eval_surface_loss(dist_mask, logits_mask)\n",
        "        elif self.loss_type == \"combined\":\n",
        "            # loss is a dict here\n",
        "            loss = self.eval_combined_loss(dist_mask, logits_mask, mask)\n",
        "        else:\n",
        "            raise NotImplementedError(f\"Loss {self.loss_type} is not implemented.\")\n",
        "\n",
        "        # Shape of the image should be (batch_size, num_channels, height, width)\n",
        "        # if you work with grayscale images, expand channels dim to have [batch_size, 1, height, width]\n",
        "        assert image.ndim == 4\n",
        "\n",
        "        # Check that image dimensions are divisible by 32,\n",
        "        # encoder and decoder connected by `skip connections` and usually encoder have 5 stages of\n",
        "        # downsampling by factor 2 (2 ^ 5 = 32); e.g. if we have image with shape 65x65 we will have\n",
        "        # following shapes of features in encoder and decoder: 84, 42, 21, 10, 5 -> 5, 10, 20, 40, 80\n",
        "        # and we will get an error trying to concat these features\n",
        "        h, w = image.shape[2:]\n",
        "        assert h % 32 == 0 and w % 32 == 0\n",
        "\n",
        "        # Check that mask values in between 0 and 1, NOT 0 and 255 for binary segmentation\n",
        "        assert mask.max() <= 1.0 and mask.min() >= 0\n",
        "\n",
        "        # Lets compute metrics for some threshold\n",
        "        # first convert mask values to probabilities, then\n",
        "        # apply thresholding\n",
        "        prob_mask = logits_mask.sigmoid()\n",
        "        pred_mask = (prob_mask > 0.5).float()\n",
        "\n",
        "        tp, fp, fn, tn = smp.metrics.get_stats(pred_mask.long(), mask.long(), mode=\"binary\")\n",
        "\n",
        "        self.tp_.append(tp)\n",
        "        self.fp_.append(fp)\n",
        "        self.fn_.append(fn)\n",
        "        self.tn_.append(tn)\n",
        "        if self.loss_type == 'combined':\n",
        "            self.losses.append(loss['total_loss'])\n",
        "            self.dice_losses.append(loss['dice_loss'])\n",
        "            self.bd_losses.append(loss['surface_loss'])\n",
        "            loss = loss['total_loss']\n",
        "        else:\n",
        "            self.losses.append(loss)\n",
        "        return loss\n",
        "\n",
        "\n",
        "    def shared_epoch_end(self, stage):\n",
        "      # Aggregate step metrics\n",
        "        tp_sum = torch.cat(self.tp_)\n",
        "        fp_sum = torch.cat(self.fp_)\n",
        "        fn_sum = torch.cat(self.fn_)\n",
        "        tn_sum = torch.cat(self.tn_)\n",
        "\n",
        "\n",
        "        # Clear lists for the next epoch\n",
        "        self.tp_.clear()\n",
        "        self.fp_.clear()\n",
        "        self.fn_.clear()\n",
        "        self.tn_.clear()\n",
        "\n",
        "\n",
        "        # Calculate IoU using micro reduction\n",
        "        per_image_iou = smp.metrics.iou_score(tp_sum, fp_sum, fn_sum, tn_sum, reduction=\"micro-imagewise\")\n",
        "        dataset_iou = smp.metrics.iou_score(tp_sum, fp_sum, fn_sum, tn_sum, reduction=\"micro\")\n",
        "        per_image_f1 = smp.metrics.f1_score(tp_sum, fp_sum, fn_sum, tn_sum, reduction=\"micro-imagewise\")\n",
        "        dataset_f1 = smp.metrics.f1_score(tp_sum, fp_sum, fn_sum, tn_sum, reduction=\"micro\")\n",
        "\n",
        "        # Prepare metrics dictionary\n",
        "        total_loss_mean = torch.stack(self.losses).mean()\n",
        "        self.losses.clear()\n",
        "\n",
        "        metrics = {\n",
        "            f\"{stage}_per_image_iou\": per_image_iou,\n",
        "            f\"{stage}_dataset_iou\": dataset_iou,\n",
        "            f\"{stage}_per_image_f1\": per_image_f1,\n",
        "            f\"{stage}_dataset_f1\": dataset_f1,\n",
        "            f\"{stage}_total_loss\": total_loss_mean,\n",
        "            f\"{stage}_alpha\": self.alpha,\n",
        "        }\n",
        "\n",
        "        if self.loss_type == 'combined':\n",
        "            dice_loss_mean = torch.stack(self.dice_losses).mean()\n",
        "            bd_loss_mean = torch.stack(self.bd_losses).mean()\n",
        "            metrics[f\"{stage}_dice_loss\"] = dice_loss_mean\n",
        "            metrics[f\"{stage}_bd_loss\"] = bd_loss_mean\n",
        "            self.dice_losses.clear()\n",
        "            self.bd_losses.clear()\n",
        "        self.log_dict(metrics, prog_bar=True)\n",
        "\n",
        "    def training_step(self, batch, batch_idx):\n",
        "        return self.shared_step(batch, \"train\")\n",
        "\n",
        "    def on_training_epoch_end(self):\n",
        "        return self.shared_epoch_end(\"train\")\n",
        "\n",
        "    def validation_step(self, batch, batch_idx):\n",
        "        return self.shared_step(batch, \"valid\")\n",
        "\n",
        "    def on_validation_epoch_end(self):\n",
        "        return self.shared_epoch_end(\"valid\")\n",
        "\n",
        "    def test_step(self, batch, batch_idx):\n",
        "        return self.shared_step(batch, \"test\")\n",
        "\n",
        "    def on_test_epoch_end(self):\n",
        "        return self.shared_epoch_end(\"test\")\n",
        "\n",
        "    def configure_optimizers(self):\n",
        "        return torch.optim.Adam(self.parameters(), lr=0.001)"
      ]
    },
    {
      "cell_type": "markdown",
      "metadata": {
        "id": "jA0AcJwW6Wpf"
      },
      "source": [
        "# Alpha Scheduler"
      ]
    },
    {
      "cell_type": "code",
      "execution_count": null,
      "metadata": {
        "id": "ThzUupjw45Hc"
      },
      "outputs": [],
      "source": [
        "class AlphaUpdater(pl.Callback):\n",
        "    def __init__(self, step=0.01, init_alpha=1):\n",
        "        super().__init__()\n",
        "        self.step = step\n",
        "        self.init_alpha = init_alpha\n",
        "\n",
        "    def update_fn(self, pl_module):\n",
        "        return (pl_module.alpha - self.step) if pl_module.alpha > 0.01 else pl_module.alpha\n",
        "\n",
        "    def on_fit_start(self, trainer, pl_module):\n",
        "        if self.init_alpha < pl_module.alpha:\n",
        "            pl_module.alpha = self.init_alpha\n",
        "\n",
        "    def on_train_epoch_end(self, trainer, pl_module):\n",
        "        # Your logic to update alpha here\n",
        "        new_alpha = self.update_fn(pl_module) # Replace with your logic to compute the new alpha value\n",
        "        pl_module.alpha = new_alpha"
      ]
    },
    {
      "cell_type": "markdown",
      "metadata": {
        "id": "XewMQX026Wpf"
      },
      "source": [
        "# Training"
      ]
    },
    {
      "cell_type": "code",
      "execution_count": null,
      "metadata": {
        "id": "C8Zr4lyR5aSe"
      },
      "outputs": [],
      "source": [
        "epoch = 200\n",
        "loss = 'dice' # you can choose dice loss or other losses\n",
        "model = RoadSegmenter(arch=\"UNet\", encoder_name=\"resnet18\", in_channels=3, out_classes=1, loss=loss, encoder_weights='imagenet')\n",
        "wandb_logger = WandbLogger(project='sat_img', name=f\"UNet_res18_epch{epoch}_{loss}_test\", save_dir=LOG_DIR)"
      ]
    },
    {
      "cell_type": "code",
      "execution_count": null,
      "metadata": {
        "colab": {
          "base_uri": "https://localhost:8080/",
          "height": 530,
          "referenced_widgets": [
            "fe599fa5863a4eb68627d348d248f65b",
            "e2b07fba4f22498ba2e04908303b68e1",
            "3e1d081f86f7431497e9201f50a94d3e",
            "899f612589d443eb9d5dd44b2ee12827",
            "d4ae99b448bb48018ad940371fdf36af",
            "cfe2b65656064d638e57da1b29f18169",
            "303e7c58767e42f185248a4f1bb53fc1",
            "0b9e50f320ea485880cffa18f23cc9cb",
            "4920ebe754e1488ab84fcaf8cd62a686",
            "4eb7693e492e4c7db9b6c4c539e0bcf4",
            "3fcad493ea0842d0a56fa77bea221c2c",
            "599ae97fb662407e8840c2d84d42dc55",
            "8ac187acb43c4f66a8a41418b07843e6",
            "b0d4b255cbbf49309ef95d48aa1b718b",
            "ad5d5908263e40b6b7bc248cca5c9138",
            "f01af17241d84a4fa614089a806a5d01",
            "f045e52eb603407f92440be9401ea74f",
            "afe228e1c619401eab694369f0627ffd",
            "5c129d2cf2d1489ca7af93799ed4276e",
            "74e2607b56764b4ebd76974828b029cf",
            "6e622412de9a40ab8397ad6d5641f4de",
            "5dc70e5bb16441209ef6004baf5c5932",
            "2f0de2f3f9c347e0a69ebda9a3067c28",
            "065b00a170244286a5ee7cb2b382e7c6",
            "3750df97dca54f42bddcb17c7d9913ed",
            "df18aa93bf394ef5a9b8d0844b66183a",
            "888f354467024e3f8cafe5cb64d20723",
            "5f1e7b8dd32449c3912c07b850773fa0",
            "26ee80b45fe1432382e70016afce2d50",
            "a4c181609bc94c31be4affbe7f964854"
          ]
        },
        "id": "Yssglr_Sgy1D",
        "outputId": "1c59e3e7-c6d4-481f-a541-d61b00b6c89e"
      },
      "outputs": [
        {
          "output_type": "stream",
          "name": "stderr",
          "text": [
            "INFO:pytorch_lightning.utilities.rank_zero:GPU available: True (cuda), used: True\n",
            "INFO:pytorch_lightning.utilities.rank_zero:TPU available: False, using: 0 TPU cores\n",
            "INFO:pytorch_lightning.utilities.rank_zero:IPU available: False, using: 0 IPUs\n",
            "INFO:pytorch_lightning.utilities.rank_zero:HPU available: False, using: 0 HPUs\n",
            "\u001b[34m\u001b[1mwandb\u001b[0m: Currently logged in as: \u001b[33mtakuya5115\u001b[0m (\u001b[33mneurologists\u001b[0m). Use \u001b[1m`wandb login --relogin`\u001b[0m to force relogin\n"
          ]
        },
        {
          "output_type": "display_data",
          "data": {
            "text/plain": [
              "<IPython.core.display.HTML object>"
            ],
            "text/html": [
              "Tracking run with wandb version 0.16.1"
            ]
          },
          "metadata": {}
        },
        {
          "output_type": "display_data",
          "data": {
            "text/plain": [
              "<IPython.core.display.HTML object>"
            ],
            "text/html": [
              "Run data is saved locally in <code>/content/drive/MyDrive/cs-433/ML_2023_/logs/wandb/run-20231221_103245-tgktmnk0</code>"
            ]
          },
          "metadata": {}
        },
        {
          "output_type": "display_data",
          "data": {
            "text/plain": [
              "<IPython.core.display.HTML object>"
            ],
            "text/html": [
              "Syncing run <strong><a href='https://wandb.ai/neurologists/sat_img/runs/tgktmnk0' target=\"_blank\">UNet_res18_epch200_dice_test</a></strong> to <a href='https://wandb.ai/neurologists/sat_img' target=\"_blank\">Weights & Biases</a> (<a href='https://wandb.me/run' target=\"_blank\">docs</a>)<br/>"
            ]
          },
          "metadata": {}
        },
        {
          "output_type": "display_data",
          "data": {
            "text/plain": [
              "<IPython.core.display.HTML object>"
            ],
            "text/html": [
              " View project at <a href='https://wandb.ai/neurologists/sat_img' target=\"_blank\">https://wandb.ai/neurologists/sat_img</a>"
            ]
          },
          "metadata": {}
        },
        {
          "output_type": "display_data",
          "data": {
            "text/plain": [
              "<IPython.core.display.HTML object>"
            ],
            "text/html": [
              " View run at <a href='https://wandb.ai/neurologists/sat_img/runs/tgktmnk0' target=\"_blank\">https://wandb.ai/neurologists/sat_img/runs/tgktmnk0</a>"
            ]
          },
          "metadata": {}
        },
        {
          "output_type": "stream",
          "name": "stderr",
          "text": [
            "INFO:pytorch_lightning.accelerators.cuda:LOCAL_RANK: 0 - CUDA_VISIBLE_DEVICES: [0]\n",
            "INFO:pytorch_lightning.callbacks.model_summary:\n",
            "  | Name    | Type     | Params\n",
            "-------------------------------------\n",
            "0 | model   | Unet     | 14.3 M\n",
            "1 | loss_fn | DiceLoss | 0     \n",
            "-------------------------------------\n",
            "14.3 M    Trainable params\n",
            "0         Non-trainable params\n",
            "14.3 M    Total params\n",
            "57.313    Total estimated model params size (MB)\n"
          ]
        },
        {
          "output_type": "display_data",
          "data": {
            "text/plain": [
              "Sanity Checking: |          | 0/? [00:00<?, ?it/s]"
            ],
            "application/vnd.jupyter.widget-view+json": {
              "version_major": 2,
              "version_minor": 0,
              "model_id": "fe599fa5863a4eb68627d348d248f65b"
            }
          },
          "metadata": {}
        },
        {
          "output_type": "stream",
          "name": "stderr",
          "text": [
            "/usr/local/lib/python3.10/dist-packages/pytorch_lightning/loops/fit_loop.py:293: The number of training batches (4) is smaller than the logging interval Trainer(log_every_n_steps=50). Set a lower value for log_every_n_steps if you want to see logs for the training epoch.\n"
          ]
        },
        {
          "output_type": "display_data",
          "data": {
            "text/plain": [
              "Training: |          | 0/? [00:00<?, ?it/s]"
            ],
            "application/vnd.jupyter.widget-view+json": {
              "version_major": 2,
              "version_minor": 0,
              "model_id": "599ae97fb662407e8840c2d84d42dc55"
            }
          },
          "metadata": {}
        },
        {
          "output_type": "stream",
          "name": "stderr",
          "text": [
            "/usr/local/lib/python3.10/dist-packages/pytorch_lightning/trainer/call.py:54: Detected KeyboardInterrupt, attempting graceful shutdown...\n"
          ]
        },
        {
          "output_type": "display_data",
          "data": {
            "text/plain": [
              "VBox(children=(Label(value='0.001 MB of 0.001 MB uploaded\\r'), FloatProgress(value=1.0, max=1.0)))"
            ],
            "application/vnd.jupyter.widget-view+json": {
              "version_major": 2,
              "version_minor": 0,
              "model_id": "2f0de2f3f9c347e0a69ebda9a3067c28"
            }
          },
          "metadata": {}
        },
        {
          "output_type": "display_data",
          "data": {
            "text/plain": [
              "<IPython.core.display.HTML object>"
            ],
            "text/html": [
              " View run <strong style=\"color:#cdcd00\">UNet_res18_epch200_dice_test</strong> at: <a href='https://wandb.ai/neurologists/sat_img/runs/tgktmnk0' target=\"_blank\">https://wandb.ai/neurologists/sat_img/runs/tgktmnk0</a><br/>Synced 5 W&B file(s), 0 media file(s), 0 artifact file(s) and 0 other file(s)"
            ]
          },
          "metadata": {}
        },
        {
          "output_type": "display_data",
          "data": {
            "text/plain": [
              "<IPython.core.display.HTML object>"
            ],
            "text/html": [
              "Find logs at: <code>./drive/MyDrive/cs-433/ML_2023_/logs/wandb/run-20231221_103245-tgktmnk0/logs</code>"
            ]
          },
          "metadata": {}
        }
      ],
      "source": [
        "alpha_scheduler = AlphaUpdater(init_alpha=1, step=0.005) # change your initial alpha and step\n",
        "ckpt_callback = ModelCheckpoint(every_n_epochs=50) # only save every 20 epochs\n",
        "\n",
        "trainer = pl.Trainer(\n",
        "    accelerator='gpu',\n",
        "    max_epochs=epoch,\n",
        "    logger=wandb_logger,\n",
        "    callbacks=[alpha_scheduler, ckpt_callback],\n",
        ")\n",
        "\n",
        "trainer.fit(\n",
        "    model,\n",
        "    train_dataloaders=train_dataloader,\n",
        "    val_dataloaders=valid_dataloader,\n",
        "    # if resuming the training\n",
        "    #ckpt_path='/content/drive/MyDrive/cs-433/ML_2023_/logs/sat_img/tiz30vyu/checkpoints/epoch=179-step=360.ckpt'\n",
        ")\n",
        "wandb.finish() # need to run this cell after finish training\n",
        "\n"
      ]
    },
    {
      "cell_type": "markdown",
      "metadata": {
        "id": "Kz27gHsxyR49"
      },
      "source": [
        "# Predict on test set and save the result"
      ]
    },
    {
      "cell_type": "markdown",
      "metadata": {
        "id": "_IMJXx5G6Wpf"
      },
      "source": [
        "Use the following cell to load the model weight if necessary"
      ]
    },
    {
      "cell_type": "code",
      "execution_count": null,
      "metadata": {
        "colab": {
          "base_uri": "https://localhost:8080/"
        },
        "id": "0LcnDnapyYQ-",
        "outputId": "3fba0714-5ffd-400e-d5dc-db96d5682d1c"
      },
      "outputs": [
        {
          "output_type": "execute_result",
          "data": {
            "text/plain": [
              "<All keys matched successfully>"
            ]
          },
          "metadata": {},
          "execution_count": 22
        }
      ],
      "source": [
        "\n",
        "#This cell is to upload the weights without rerun the training\n",
        "# load the model\n",
        "loss = 'dice'\n",
        "model = RoadSegmenter(arch=\"UNet\", encoder_name=\"resnet18\", in_channels=3, out_classes=1, loss=loss, encoder_weights='imagenet')\n",
        "# change the path below of your checkpoint\n",
        "checkpoint_path = \"/content/drive/MyDrive/cs-433/ML_2023_/logs/sat_img/y9iwphys/checkpoints/epoch=199-step=800.ckpt\"\n",
        "ckpt = torch.load(checkpoint_path)\n",
        "model.load_state_dict(ckpt[\"state_dict\"])"
      ]
    },
    {
      "cell_type": "markdown",
      "metadata": {
        "id": "daKkFjpD6Wpf"
      },
      "source": [
        "Run the following cells to save predictions on the test set."
      ]
    },
    {
      "cell_type": "code",
      "execution_count": null,
      "metadata": {
        "id": "4G2xgik0mAwk"
      },
      "outputs": [],
      "source": [
        "# Your existing code to get batch, model, etc.\n",
        "dataloader = test_dataloader\n",
        "\n",
        "id = 1\n",
        "for batch in dataloader:\n",
        "    with torch.no_grad():\n",
        "        model.eval()\n",
        "        logits = model(batch[\"image\"])\n",
        "    pr_masks = logits.sigmoid()\n",
        "    gt_masks = batch['mask']\n",
        "\n",
        "    for (pr_mask, gt_masks) in zip(pr_masks, gt_masks):\n",
        "        # Convert the prediction mask to a PIL Image\n",
        "        mask_array = pr_mask.numpy().squeeze()\n",
        "        gt_mask_array = gt_masks.numpy().squeeze()\n",
        "        mask_image = Image.fromarray((mask_array * 255).astype(np.uint8))\n",
        "        # for test set, there are 3 channels so take the first one only\n",
        "        gt_mask_image = Image.fromarray((gt_mask_array[0, ...] * 255).astype(np.uint8))\n",
        "\n",
        "        # Save the resized image\n",
        "        pred_dir = os.path.join(SAVE_DIR, \"pred\")\n",
        "        gt_dir = os.path.join(SAVE_DIR, \"gt\")\n",
        "        os.makedirs(pred_dir, exist_ok=True)\n",
        "        os.makedirs(gt_dir, exist_ok=True)\n",
        "        pred_save_path = os.path.join(pred_dir, f\"prediction_{id}.png\")\n",
        "        gt_save_path = os.path.join(gt_dir, f\"gt_{id}.png\")\n",
        "        mask_image.save(pred_save_path)\n",
        "        gt_mask_image.save(gt_save_path)\n",
        "        id += 1\n"
      ]
    },
    {
      "cell_type": "markdown",
      "metadata": {
        "id": "SiBwy65R4quQ"
      },
      "source": [
        "# Post processing\n"
      ]
    },
    {
      "cell_type": "markdown",
      "metadata": {
        "id": "vlyjXySoBSoP"
      },
      "source": [
        "The following cell will apply morphology transformation (opening) to images in `INPUT_POST` and save them to `OUTPUT_POST`."
      ]
    },
    {
      "cell_type": "code",
      "execution_count": null,
      "metadata": {
        "id": "Atn3fL8349g1"
      },
      "outputs": [],
      "source": [
        "# Create the output directory if it doesn't exist\n",
        "if not os.path.exists(OUTPUT_POST):\n",
        "    os.makedirs(OUTPUT_POST)\n",
        "\n",
        "# Get the list of image files in the input directory\n",
        "image_files = [f for f in os.listdir(INPUT_POST) if os.path.isfile(os.path.join(INPUT_POST, f))]\n",
        "\n",
        "# Define the kernel for sliding operation\n",
        "kernel_1 = np.ones((3, 3), np.uint8)\n",
        "\n",
        "# Apply morphologyEx for each image\n",
        "for image_file in image_files:\n",
        "    # Read the image\n",
        "    img = cv2.imread(os.path.join(INPUT_POST, image_file))\n",
        "\n",
        "    # Apply morphologyEx\n",
        "    img = cv2.erode(img, kernel_1, iterations=3)\n",
        "    img = cv2.dilate(img, kernel_1, iterations=4)\n",
        "\n",
        "    # Save the result with the same filename in the output directory\n",
        "    output_file = os.path.join(OUTPUT_POST, image_file)\n",
        "    cv2.imwrite(output_file, img)"
      ]
    },
    {
      "cell_type": "markdown",
      "metadata": {
        "id": "EhJBhd6-bRGo"
      },
      "source": [
        "# Save for the submission"
      ]
    },
    {
      "cell_type": "markdown",
      "metadata": {
        "id": "uAhuKun66Wpg"
      },
      "source": [
        "Create a submission csv file:"
      ]
    },
    {
      "cell_type": "code",
      "execution_count": null,
      "metadata": {
        "colab": {
          "base_uri": "https://localhost:8080/"
        },
        "id": "CFx3gAMFbTeX",
        "outputId": "42a933b8-f23c-4fe8-b477-78582011fa25"
      },
      "outputs": [
        {
          "output_type": "stream",
          "name": "stdout",
          "text": [
            "/content/drive/MyDrive/cs-433/ML_2023_/sub_test/pped/prediction_1.png\n",
            "/content/drive/MyDrive/cs-433/ML_2023_/sub_test/pped/prediction_2.png\n",
            "/content/drive/MyDrive/cs-433/ML_2023_/sub_test/pped/prediction_3.png\n",
            "/content/drive/MyDrive/cs-433/ML_2023_/sub_test/pped/prediction_4.png\n",
            "/content/drive/MyDrive/cs-433/ML_2023_/sub_test/pped/prediction_5.png\n",
            "/content/drive/MyDrive/cs-433/ML_2023_/sub_test/pped/prediction_6.png\n",
            "/content/drive/MyDrive/cs-433/ML_2023_/sub_test/pped/prediction_7.png\n",
            "/content/drive/MyDrive/cs-433/ML_2023_/sub_test/pped/prediction_8.png\n",
            "/content/drive/MyDrive/cs-433/ML_2023_/sub_test/pped/prediction_9.png\n",
            "/content/drive/MyDrive/cs-433/ML_2023_/sub_test/pped/prediction_10.png\n",
            "/content/drive/MyDrive/cs-433/ML_2023_/sub_test/pped/prediction_11.png\n",
            "/content/drive/MyDrive/cs-433/ML_2023_/sub_test/pped/prediction_12.png\n",
            "/content/drive/MyDrive/cs-433/ML_2023_/sub_test/pped/prediction_13.png\n",
            "/content/drive/MyDrive/cs-433/ML_2023_/sub_test/pped/prediction_14.png\n",
            "/content/drive/MyDrive/cs-433/ML_2023_/sub_test/pped/prediction_15.png\n",
            "/content/drive/MyDrive/cs-433/ML_2023_/sub_test/pped/prediction_16.png\n",
            "/content/drive/MyDrive/cs-433/ML_2023_/sub_test/pped/prediction_17.png\n",
            "/content/drive/MyDrive/cs-433/ML_2023_/sub_test/pped/prediction_18.png\n",
            "/content/drive/MyDrive/cs-433/ML_2023_/sub_test/pped/prediction_19.png\n",
            "/content/drive/MyDrive/cs-433/ML_2023_/sub_test/pped/prediction_20.png\n",
            "/content/drive/MyDrive/cs-433/ML_2023_/sub_test/pped/prediction_21.png\n",
            "/content/drive/MyDrive/cs-433/ML_2023_/sub_test/pped/prediction_22.png\n",
            "/content/drive/MyDrive/cs-433/ML_2023_/sub_test/pped/prediction_23.png\n",
            "/content/drive/MyDrive/cs-433/ML_2023_/sub_test/pped/prediction_24.png\n",
            "/content/drive/MyDrive/cs-433/ML_2023_/sub_test/pped/prediction_25.png\n",
            "/content/drive/MyDrive/cs-433/ML_2023_/sub_test/pped/prediction_26.png\n",
            "/content/drive/MyDrive/cs-433/ML_2023_/sub_test/pped/prediction_27.png\n",
            "/content/drive/MyDrive/cs-433/ML_2023_/sub_test/pped/prediction_28.png\n",
            "/content/drive/MyDrive/cs-433/ML_2023_/sub_test/pped/prediction_29.png\n",
            "/content/drive/MyDrive/cs-433/ML_2023_/sub_test/pped/prediction_30.png\n",
            "/content/drive/MyDrive/cs-433/ML_2023_/sub_test/pped/prediction_31.png\n",
            "/content/drive/MyDrive/cs-433/ML_2023_/sub_test/pped/prediction_32.png\n",
            "/content/drive/MyDrive/cs-433/ML_2023_/sub_test/pped/prediction_33.png\n",
            "/content/drive/MyDrive/cs-433/ML_2023_/sub_test/pped/prediction_34.png\n",
            "/content/drive/MyDrive/cs-433/ML_2023_/sub_test/pped/prediction_35.png\n",
            "/content/drive/MyDrive/cs-433/ML_2023_/sub_test/pped/prediction_36.png\n",
            "/content/drive/MyDrive/cs-433/ML_2023_/sub_test/pped/prediction_37.png\n",
            "/content/drive/MyDrive/cs-433/ML_2023_/sub_test/pped/prediction_38.png\n",
            "/content/drive/MyDrive/cs-433/ML_2023_/sub_test/pped/prediction_39.png\n",
            "/content/drive/MyDrive/cs-433/ML_2023_/sub_test/pped/prediction_40.png\n",
            "/content/drive/MyDrive/cs-433/ML_2023_/sub_test/pped/prediction_41.png\n",
            "/content/drive/MyDrive/cs-433/ML_2023_/sub_test/pped/prediction_42.png\n",
            "/content/drive/MyDrive/cs-433/ML_2023_/sub_test/pped/prediction_43.png\n",
            "/content/drive/MyDrive/cs-433/ML_2023_/sub_test/pped/prediction_44.png\n",
            "/content/drive/MyDrive/cs-433/ML_2023_/sub_test/pped/prediction_45.png\n",
            "/content/drive/MyDrive/cs-433/ML_2023_/sub_test/pped/prediction_46.png\n",
            "/content/drive/MyDrive/cs-433/ML_2023_/sub_test/pped/prediction_47.png\n",
            "/content/drive/MyDrive/cs-433/ML_2023_/sub_test/pped/prediction_48.png\n",
            "/content/drive/MyDrive/cs-433/ML_2023_/sub_test/pped/prediction_49.png\n",
            "/content/drive/MyDrive/cs-433/ML_2023_/sub_test/pped/prediction_50.png\n"
          ]
        }
      ],
      "source": [
        "foreground_threshold = 0.25 # percentage of pixels > 1 required to assign a foreground label to a patch\n",
        "\n",
        "# assign a label to a patch\n",
        "def patch_to_label(patch):\n",
        "    df = np.mean(patch)\n",
        "    if df > foreground_threshold:\n",
        "        return 1\n",
        "    else:\n",
        "        return 0\n",
        "\n",
        "def mask_to_submission_strings(image_filename):\n",
        "    \"\"\"Reads a single image and outputs the strings that should go into the submission file\"\"\"\n",
        "    img_number = int(re.search(r\"\\d+\", image_filename[-8:]).group(0))\n",
        "    im = mpimg.imread(image_filename)\n",
        "    patch_size = 16\n",
        "    for j in range(0, im.shape[1], patch_size):\n",
        "        for i in range(0, im.shape[0], patch_size):\n",
        "            patch = im[i:i + patch_size, j:j + patch_size]\n",
        "            label = patch_to_label(patch)\n",
        "            yield(\"{:03d}_{}_{},{}\".format(img_number, j, i, label))\n",
        "\n",
        "def masks_to_submission(submission_filename, *image_filenames):\n",
        "    \"\"\"Converts images into a submission file\"\"\"\n",
        "    with open(submission_filename, 'w') as f:\n",
        "        f.write('id,prediction\\n')\n",
        "        for fn in image_filenames[0:]:\n",
        "            f.writelines('{}\\n'.format(s) for s in mask_to_submission_strings(fn))\n",
        "\n",
        "save_path = os.path.join(OUTPUT_SUB, SUB_FILENAME)\n",
        "image_filenames = []\n",
        "for i in range(1, 51):\n",
        "    image_filename = os.path.join(INPUT_SUB, \"prediction_\" + '%.1d' % i + '.png')\n",
        "    print(image_filename)\n",
        "    image_filenames.append(image_filename)\n",
        "masks_to_submission(save_path, *image_filenames)"
      ]
    }
  ],
  "metadata": {
    "accelerator": "GPU",
    "colab": {
      "gpuType": "T4",
      "provenance": []
    },
    "kernelspec": {
      "display_name": "Python 3",
      "name": "python3"
    },
    "language_info": {
      "codemirror_mode": {
        "name": "ipython",
        "version": 3
      },
      "file_extension": ".py",
      "mimetype": "text/x-python",
      "name": "python",
      "nbconvert_exporter": "python",
      "pygments_lexer": "ipython3",
      "version": "3.11.5"
    },
    "widgets": {
      "application/vnd.jupyter.widget-state+json": {
        "fe599fa5863a4eb68627d348d248f65b": {
          "model_module": "@jupyter-widgets/controls",
          "model_name": "HBoxModel",
          "model_module_version": "1.5.0",
          "state": {
            "_dom_classes": [],
            "_model_module": "@jupyter-widgets/controls",
            "_model_module_version": "1.5.0",
            "_model_name": "HBoxModel",
            "_view_count": null,
            "_view_module": "@jupyter-widgets/controls",
            "_view_module_version": "1.5.0",
            "_view_name": "HBoxView",
            "box_style": "",
            "children": [
              "IPY_MODEL_e2b07fba4f22498ba2e04908303b68e1",
              "IPY_MODEL_3e1d081f86f7431497e9201f50a94d3e",
              "IPY_MODEL_899f612589d443eb9d5dd44b2ee12827"
            ],
            "layout": "IPY_MODEL_d4ae99b448bb48018ad940371fdf36af"
          }
        },
        "e2b07fba4f22498ba2e04908303b68e1": {
          "model_module": "@jupyter-widgets/controls",
          "model_name": "HTMLModel",
          "model_module_version": "1.5.0",
          "state": {
            "_dom_classes": [],
            "_model_module": "@jupyter-widgets/controls",
            "_model_module_version": "1.5.0",
            "_model_name": "HTMLModel",
            "_view_count": null,
            "_view_module": "@jupyter-widgets/controls",
            "_view_module_version": "1.5.0",
            "_view_name": "HTMLView",
            "description": "",
            "description_tooltip": null,
            "layout": "IPY_MODEL_cfe2b65656064d638e57da1b29f18169",
            "placeholder": "​",
            "style": "IPY_MODEL_303e7c58767e42f185248a4f1bb53fc1",
            "value": "Sanity Checking DataLoader 0: 100%"
          }
        },
        "3e1d081f86f7431497e9201f50a94d3e": {
          "model_module": "@jupyter-widgets/controls",
          "model_name": "FloatProgressModel",
          "model_module_version": "1.5.0",
          "state": {
            "_dom_classes": [],
            "_model_module": "@jupyter-widgets/controls",
            "_model_module_version": "1.5.0",
            "_model_name": "FloatProgressModel",
            "_view_count": null,
            "_view_module": "@jupyter-widgets/controls",
            "_view_module_version": "1.5.0",
            "_view_name": "ProgressView",
            "bar_style": "",
            "description": "",
            "description_tooltip": null,
            "layout": "IPY_MODEL_0b9e50f320ea485880cffa18f23cc9cb",
            "max": 1,
            "min": 0,
            "orientation": "horizontal",
            "style": "IPY_MODEL_4920ebe754e1488ab84fcaf8cd62a686",
            "value": 1
          }
        },
        "899f612589d443eb9d5dd44b2ee12827": {
          "model_module": "@jupyter-widgets/controls",
          "model_name": "HTMLModel",
          "model_module_version": "1.5.0",
          "state": {
            "_dom_classes": [],
            "_model_module": "@jupyter-widgets/controls",
            "_model_module_version": "1.5.0",
            "_model_name": "HTMLModel",
            "_view_count": null,
            "_view_module": "@jupyter-widgets/controls",
            "_view_module_version": "1.5.0",
            "_view_name": "HTMLView",
            "description": "",
            "description_tooltip": null,
            "layout": "IPY_MODEL_4eb7693e492e4c7db9b6c4c539e0bcf4",
            "placeholder": "​",
            "style": "IPY_MODEL_3fcad493ea0842d0a56fa77bea221c2c",
            "value": " 1/1 [00:01&lt;00:00,  0.73it/s]"
          }
        },
        "d4ae99b448bb48018ad940371fdf36af": {
          "model_module": "@jupyter-widgets/base",
          "model_name": "LayoutModel",
          "model_module_version": "1.2.0",
          "state": {
            "_model_module": "@jupyter-widgets/base",
            "_model_module_version": "1.2.0",
            "_model_name": "LayoutModel",
            "_view_count": null,
            "_view_module": "@jupyter-widgets/base",
            "_view_module_version": "1.2.0",
            "_view_name": "LayoutView",
            "align_content": null,
            "align_items": null,
            "align_self": null,
            "border": null,
            "bottom": null,
            "display": "inline-flex",
            "flex": null,
            "flex_flow": "row wrap",
            "grid_area": null,
            "grid_auto_columns": null,
            "grid_auto_flow": null,
            "grid_auto_rows": null,
            "grid_column": null,
            "grid_gap": null,
            "grid_row": null,
            "grid_template_areas": null,
            "grid_template_columns": null,
            "grid_template_rows": null,
            "height": null,
            "justify_content": null,
            "justify_items": null,
            "left": null,
            "margin": null,
            "max_height": null,
            "max_width": null,
            "min_height": null,
            "min_width": null,
            "object_fit": null,
            "object_position": null,
            "order": null,
            "overflow": null,
            "overflow_x": null,
            "overflow_y": null,
            "padding": null,
            "right": null,
            "top": null,
            "visibility": "hidden",
            "width": "100%"
          }
        },
        "cfe2b65656064d638e57da1b29f18169": {
          "model_module": "@jupyter-widgets/base",
          "model_name": "LayoutModel",
          "model_module_version": "1.2.0",
          "state": {
            "_model_module": "@jupyter-widgets/base",
            "_model_module_version": "1.2.0",
            "_model_name": "LayoutModel",
            "_view_count": null,
            "_view_module": "@jupyter-widgets/base",
            "_view_module_version": "1.2.0",
            "_view_name": "LayoutView",
            "align_content": null,
            "align_items": null,
            "align_self": null,
            "border": null,
            "bottom": null,
            "display": null,
            "flex": null,
            "flex_flow": null,
            "grid_area": null,
            "grid_auto_columns": null,
            "grid_auto_flow": null,
            "grid_auto_rows": null,
            "grid_column": null,
            "grid_gap": null,
            "grid_row": null,
            "grid_template_areas": null,
            "grid_template_columns": null,
            "grid_template_rows": null,
            "height": null,
            "justify_content": null,
            "justify_items": null,
            "left": null,
            "margin": null,
            "max_height": null,
            "max_width": null,
            "min_height": null,
            "min_width": null,
            "object_fit": null,
            "object_position": null,
            "order": null,
            "overflow": null,
            "overflow_x": null,
            "overflow_y": null,
            "padding": null,
            "right": null,
            "top": null,
            "visibility": null,
            "width": null
          }
        },
        "303e7c58767e42f185248a4f1bb53fc1": {
          "model_module": "@jupyter-widgets/controls",
          "model_name": "DescriptionStyleModel",
          "model_module_version": "1.5.0",
          "state": {
            "_model_module": "@jupyter-widgets/controls",
            "_model_module_version": "1.5.0",
            "_model_name": "DescriptionStyleModel",
            "_view_count": null,
            "_view_module": "@jupyter-widgets/base",
            "_view_module_version": "1.2.0",
            "_view_name": "StyleView",
            "description_width": ""
          }
        },
        "0b9e50f320ea485880cffa18f23cc9cb": {
          "model_module": "@jupyter-widgets/base",
          "model_name": "LayoutModel",
          "model_module_version": "1.2.0",
          "state": {
            "_model_module": "@jupyter-widgets/base",
            "_model_module_version": "1.2.0",
            "_model_name": "LayoutModel",
            "_view_count": null,
            "_view_module": "@jupyter-widgets/base",
            "_view_module_version": "1.2.0",
            "_view_name": "LayoutView",
            "align_content": null,
            "align_items": null,
            "align_self": null,
            "border": null,
            "bottom": null,
            "display": null,
            "flex": "2",
            "flex_flow": null,
            "grid_area": null,
            "grid_auto_columns": null,
            "grid_auto_flow": null,
            "grid_auto_rows": null,
            "grid_column": null,
            "grid_gap": null,
            "grid_row": null,
            "grid_template_areas": null,
            "grid_template_columns": null,
            "grid_template_rows": null,
            "height": null,
            "justify_content": null,
            "justify_items": null,
            "left": null,
            "margin": null,
            "max_height": null,
            "max_width": null,
            "min_height": null,
            "min_width": null,
            "object_fit": null,
            "object_position": null,
            "order": null,
            "overflow": null,
            "overflow_x": null,
            "overflow_y": null,
            "padding": null,
            "right": null,
            "top": null,
            "visibility": null,
            "width": null
          }
        },
        "4920ebe754e1488ab84fcaf8cd62a686": {
          "model_module": "@jupyter-widgets/controls",
          "model_name": "ProgressStyleModel",
          "model_module_version": "1.5.0",
          "state": {
            "_model_module": "@jupyter-widgets/controls",
            "_model_module_version": "1.5.0",
            "_model_name": "ProgressStyleModel",
            "_view_count": null,
            "_view_module": "@jupyter-widgets/base",
            "_view_module_version": "1.2.0",
            "_view_name": "StyleView",
            "bar_color": null,
            "description_width": ""
          }
        },
        "4eb7693e492e4c7db9b6c4c539e0bcf4": {
          "model_module": "@jupyter-widgets/base",
          "model_name": "LayoutModel",
          "model_module_version": "1.2.0",
          "state": {
            "_model_module": "@jupyter-widgets/base",
            "_model_module_version": "1.2.0",
            "_model_name": "LayoutModel",
            "_view_count": null,
            "_view_module": "@jupyter-widgets/base",
            "_view_module_version": "1.2.0",
            "_view_name": "LayoutView",
            "align_content": null,
            "align_items": null,
            "align_self": null,
            "border": null,
            "bottom": null,
            "display": null,
            "flex": null,
            "flex_flow": null,
            "grid_area": null,
            "grid_auto_columns": null,
            "grid_auto_flow": null,
            "grid_auto_rows": null,
            "grid_column": null,
            "grid_gap": null,
            "grid_row": null,
            "grid_template_areas": null,
            "grid_template_columns": null,
            "grid_template_rows": null,
            "height": null,
            "justify_content": null,
            "justify_items": null,
            "left": null,
            "margin": null,
            "max_height": null,
            "max_width": null,
            "min_height": null,
            "min_width": null,
            "object_fit": null,
            "object_position": null,
            "order": null,
            "overflow": null,
            "overflow_x": null,
            "overflow_y": null,
            "padding": null,
            "right": null,
            "top": null,
            "visibility": null,
            "width": null
          }
        },
        "3fcad493ea0842d0a56fa77bea221c2c": {
          "model_module": "@jupyter-widgets/controls",
          "model_name": "DescriptionStyleModel",
          "model_module_version": "1.5.0",
          "state": {
            "_model_module": "@jupyter-widgets/controls",
            "_model_module_version": "1.5.0",
            "_model_name": "DescriptionStyleModel",
            "_view_count": null,
            "_view_module": "@jupyter-widgets/base",
            "_view_module_version": "1.2.0",
            "_view_name": "StyleView",
            "description_width": ""
          }
        },
        "599ae97fb662407e8840c2d84d42dc55": {
          "model_module": "@jupyter-widgets/controls",
          "model_name": "HBoxModel",
          "model_module_version": "1.5.0",
          "state": {
            "_dom_classes": [],
            "_model_module": "@jupyter-widgets/controls",
            "_model_module_version": "1.5.0",
            "_model_name": "HBoxModel",
            "_view_count": null,
            "_view_module": "@jupyter-widgets/controls",
            "_view_module_version": "1.5.0",
            "_view_name": "HBoxView",
            "box_style": "",
            "children": [
              "IPY_MODEL_8ac187acb43c4f66a8a41418b07843e6",
              "IPY_MODEL_b0d4b255cbbf49309ef95d48aa1b718b",
              "IPY_MODEL_ad5d5908263e40b6b7bc248cca5c9138"
            ],
            "layout": "IPY_MODEL_f01af17241d84a4fa614089a806a5d01"
          }
        },
        "8ac187acb43c4f66a8a41418b07843e6": {
          "model_module": "@jupyter-widgets/controls",
          "model_name": "HTMLModel",
          "model_module_version": "1.5.0",
          "state": {
            "_dom_classes": [],
            "_model_module": "@jupyter-widgets/controls",
            "_model_module_version": "1.5.0",
            "_model_name": "HTMLModel",
            "_view_count": null,
            "_view_module": "@jupyter-widgets/controls",
            "_view_module_version": "1.5.0",
            "_view_name": "HTMLView",
            "description": "",
            "description_tooltip": null,
            "layout": "IPY_MODEL_f045e52eb603407f92440be9401ea74f",
            "placeholder": "​",
            "style": "IPY_MODEL_afe228e1c619401eab694369f0627ffd",
            "value": "Epoch 0:   0%"
          }
        },
        "b0d4b255cbbf49309ef95d48aa1b718b": {
          "model_module": "@jupyter-widgets/controls",
          "model_name": "FloatProgressModel",
          "model_module_version": "1.5.0",
          "state": {
            "_dom_classes": [],
            "_model_module": "@jupyter-widgets/controls",
            "_model_module_version": "1.5.0",
            "_model_name": "FloatProgressModel",
            "_view_count": null,
            "_view_module": "@jupyter-widgets/controls",
            "_view_module_version": "1.5.0",
            "_view_name": "ProgressView",
            "bar_style": "",
            "description": "",
            "description_tooltip": null,
            "layout": "IPY_MODEL_5c129d2cf2d1489ca7af93799ed4276e",
            "max": 4,
            "min": 0,
            "orientation": "horizontal",
            "style": "IPY_MODEL_74e2607b56764b4ebd76974828b029cf",
            "value": 0
          }
        },
        "ad5d5908263e40b6b7bc248cca5c9138": {
          "model_module": "@jupyter-widgets/controls",
          "model_name": "HTMLModel",
          "model_module_version": "1.5.0",
          "state": {
            "_dom_classes": [],
            "_model_module": "@jupyter-widgets/controls",
            "_model_module_version": "1.5.0",
            "_model_name": "HTMLModel",
            "_view_count": null,
            "_view_module": "@jupyter-widgets/controls",
            "_view_module_version": "1.5.0",
            "_view_name": "HTMLView",
            "description": "",
            "description_tooltip": null,
            "layout": "IPY_MODEL_6e622412de9a40ab8397ad6d5641f4de",
            "placeholder": "​",
            "style": "IPY_MODEL_5dc70e5bb16441209ef6004baf5c5932",
            "value": " 0/4 [00:00&lt;?, ?it/s]"
          }
        },
        "f01af17241d84a4fa614089a806a5d01": {
          "model_module": "@jupyter-widgets/base",
          "model_name": "LayoutModel",
          "model_module_version": "1.2.0",
          "state": {
            "_model_module": "@jupyter-widgets/base",
            "_model_module_version": "1.2.0",
            "_model_name": "LayoutModel",
            "_view_count": null,
            "_view_module": "@jupyter-widgets/base",
            "_view_module_version": "1.2.0",
            "_view_name": "LayoutView",
            "align_content": null,
            "align_items": null,
            "align_self": null,
            "border": null,
            "bottom": null,
            "display": "inline-flex",
            "flex": null,
            "flex_flow": "row wrap",
            "grid_area": null,
            "grid_auto_columns": null,
            "grid_auto_flow": null,
            "grid_auto_rows": null,
            "grid_column": null,
            "grid_gap": null,
            "grid_row": null,
            "grid_template_areas": null,
            "grid_template_columns": null,
            "grid_template_rows": null,
            "height": null,
            "justify_content": null,
            "justify_items": null,
            "left": null,
            "margin": null,
            "max_height": null,
            "max_width": null,
            "min_height": null,
            "min_width": null,
            "object_fit": null,
            "object_position": null,
            "order": null,
            "overflow": null,
            "overflow_x": null,
            "overflow_y": null,
            "padding": null,
            "right": null,
            "top": null,
            "visibility": null,
            "width": "100%"
          }
        },
        "f045e52eb603407f92440be9401ea74f": {
          "model_module": "@jupyter-widgets/base",
          "model_name": "LayoutModel",
          "model_module_version": "1.2.0",
          "state": {
            "_model_module": "@jupyter-widgets/base",
            "_model_module_version": "1.2.0",
            "_model_name": "LayoutModel",
            "_view_count": null,
            "_view_module": "@jupyter-widgets/base",
            "_view_module_version": "1.2.0",
            "_view_name": "LayoutView",
            "align_content": null,
            "align_items": null,
            "align_self": null,
            "border": null,
            "bottom": null,
            "display": null,
            "flex": null,
            "flex_flow": null,
            "grid_area": null,
            "grid_auto_columns": null,
            "grid_auto_flow": null,
            "grid_auto_rows": null,
            "grid_column": null,
            "grid_gap": null,
            "grid_row": null,
            "grid_template_areas": null,
            "grid_template_columns": null,
            "grid_template_rows": null,
            "height": null,
            "justify_content": null,
            "justify_items": null,
            "left": null,
            "margin": null,
            "max_height": null,
            "max_width": null,
            "min_height": null,
            "min_width": null,
            "object_fit": null,
            "object_position": null,
            "order": null,
            "overflow": null,
            "overflow_x": null,
            "overflow_y": null,
            "padding": null,
            "right": null,
            "top": null,
            "visibility": null,
            "width": null
          }
        },
        "afe228e1c619401eab694369f0627ffd": {
          "model_module": "@jupyter-widgets/controls",
          "model_name": "DescriptionStyleModel",
          "model_module_version": "1.5.0",
          "state": {
            "_model_module": "@jupyter-widgets/controls",
            "_model_module_version": "1.5.0",
            "_model_name": "DescriptionStyleModel",
            "_view_count": null,
            "_view_module": "@jupyter-widgets/base",
            "_view_module_version": "1.2.0",
            "_view_name": "StyleView",
            "description_width": ""
          }
        },
        "5c129d2cf2d1489ca7af93799ed4276e": {
          "model_module": "@jupyter-widgets/base",
          "model_name": "LayoutModel",
          "model_module_version": "1.2.0",
          "state": {
            "_model_module": "@jupyter-widgets/base",
            "_model_module_version": "1.2.0",
            "_model_name": "LayoutModel",
            "_view_count": null,
            "_view_module": "@jupyter-widgets/base",
            "_view_module_version": "1.2.0",
            "_view_name": "LayoutView",
            "align_content": null,
            "align_items": null,
            "align_self": null,
            "border": null,
            "bottom": null,
            "display": null,
            "flex": "2",
            "flex_flow": null,
            "grid_area": null,
            "grid_auto_columns": null,
            "grid_auto_flow": null,
            "grid_auto_rows": null,
            "grid_column": null,
            "grid_gap": null,
            "grid_row": null,
            "grid_template_areas": null,
            "grid_template_columns": null,
            "grid_template_rows": null,
            "height": null,
            "justify_content": null,
            "justify_items": null,
            "left": null,
            "margin": null,
            "max_height": null,
            "max_width": null,
            "min_height": null,
            "min_width": null,
            "object_fit": null,
            "object_position": null,
            "order": null,
            "overflow": null,
            "overflow_x": null,
            "overflow_y": null,
            "padding": null,
            "right": null,
            "top": null,
            "visibility": null,
            "width": null
          }
        },
        "74e2607b56764b4ebd76974828b029cf": {
          "model_module": "@jupyter-widgets/controls",
          "model_name": "ProgressStyleModel",
          "model_module_version": "1.5.0",
          "state": {
            "_model_module": "@jupyter-widgets/controls",
            "_model_module_version": "1.5.0",
            "_model_name": "ProgressStyleModel",
            "_view_count": null,
            "_view_module": "@jupyter-widgets/base",
            "_view_module_version": "1.2.0",
            "_view_name": "StyleView",
            "bar_color": null,
            "description_width": ""
          }
        },
        "6e622412de9a40ab8397ad6d5641f4de": {
          "model_module": "@jupyter-widgets/base",
          "model_name": "LayoutModel",
          "model_module_version": "1.2.0",
          "state": {
            "_model_module": "@jupyter-widgets/base",
            "_model_module_version": "1.2.0",
            "_model_name": "LayoutModel",
            "_view_count": null,
            "_view_module": "@jupyter-widgets/base",
            "_view_module_version": "1.2.0",
            "_view_name": "LayoutView",
            "align_content": null,
            "align_items": null,
            "align_self": null,
            "border": null,
            "bottom": null,
            "display": null,
            "flex": null,
            "flex_flow": null,
            "grid_area": null,
            "grid_auto_columns": null,
            "grid_auto_flow": null,
            "grid_auto_rows": null,
            "grid_column": null,
            "grid_gap": null,
            "grid_row": null,
            "grid_template_areas": null,
            "grid_template_columns": null,
            "grid_template_rows": null,
            "height": null,
            "justify_content": null,
            "justify_items": null,
            "left": null,
            "margin": null,
            "max_height": null,
            "max_width": null,
            "min_height": null,
            "min_width": null,
            "object_fit": null,
            "object_position": null,
            "order": null,
            "overflow": null,
            "overflow_x": null,
            "overflow_y": null,
            "padding": null,
            "right": null,
            "top": null,
            "visibility": null,
            "width": null
          }
        },
        "5dc70e5bb16441209ef6004baf5c5932": {
          "model_module": "@jupyter-widgets/controls",
          "model_name": "DescriptionStyleModel",
          "model_module_version": "1.5.0",
          "state": {
            "_model_module": "@jupyter-widgets/controls",
            "_model_module_version": "1.5.0",
            "_model_name": "DescriptionStyleModel",
            "_view_count": null,
            "_view_module": "@jupyter-widgets/base",
            "_view_module_version": "1.2.0",
            "_view_name": "StyleView",
            "description_width": ""
          }
        },
        "2f0de2f3f9c347e0a69ebda9a3067c28": {
          "model_module": "@jupyter-widgets/controls",
          "model_name": "VBoxModel",
          "model_module_version": "1.5.0",
          "state": {
            "_dom_classes": [],
            "_model_module": "@jupyter-widgets/controls",
            "_model_module_version": "1.5.0",
            "_model_name": "VBoxModel",
            "_view_count": null,
            "_view_module": "@jupyter-widgets/controls",
            "_view_module_version": "1.5.0",
            "_view_name": "VBoxView",
            "box_style": "",
            "children": [
              "IPY_MODEL_065b00a170244286a5ee7cb2b382e7c6",
              "IPY_MODEL_3750df97dca54f42bddcb17c7d9913ed"
            ],
            "layout": "IPY_MODEL_df18aa93bf394ef5a9b8d0844b66183a"
          }
        },
        "065b00a170244286a5ee7cb2b382e7c6": {
          "model_module": "@jupyter-widgets/controls",
          "model_name": "LabelModel",
          "model_module_version": "1.5.0",
          "state": {
            "_dom_classes": [],
            "_model_module": "@jupyter-widgets/controls",
            "_model_module_version": "1.5.0",
            "_model_name": "LabelModel",
            "_view_count": null,
            "_view_module": "@jupyter-widgets/controls",
            "_view_module_version": "1.5.0",
            "_view_name": "LabelView",
            "description": "",
            "description_tooltip": null,
            "layout": "IPY_MODEL_888f354467024e3f8cafe5cb64d20723",
            "placeholder": "​",
            "style": "IPY_MODEL_5f1e7b8dd32449c3912c07b850773fa0",
            "value": "0.011 MB of 0.011 MB uploaded\r"
          }
        },
        "3750df97dca54f42bddcb17c7d9913ed": {
          "model_module": "@jupyter-widgets/controls",
          "model_name": "FloatProgressModel",
          "model_module_version": "1.5.0",
          "state": {
            "_dom_classes": [],
            "_model_module": "@jupyter-widgets/controls",
            "_model_module_version": "1.5.0",
            "_model_name": "FloatProgressModel",
            "_view_count": null,
            "_view_module": "@jupyter-widgets/controls",
            "_view_module_version": "1.5.0",
            "_view_name": "ProgressView",
            "bar_style": "",
            "description": "",
            "description_tooltip": null,
            "layout": "IPY_MODEL_26ee80b45fe1432382e70016afce2d50",
            "max": 1,
            "min": 0,
            "orientation": "horizontal",
            "style": "IPY_MODEL_a4c181609bc94c31be4affbe7f964854",
            "value": 1
          }
        },
        "df18aa93bf394ef5a9b8d0844b66183a": {
          "model_module": "@jupyter-widgets/base",
          "model_name": "LayoutModel",
          "model_module_version": "1.2.0",
          "state": {
            "_model_module": "@jupyter-widgets/base",
            "_model_module_version": "1.2.0",
            "_model_name": "LayoutModel",
            "_view_count": null,
            "_view_module": "@jupyter-widgets/base",
            "_view_module_version": "1.2.0",
            "_view_name": "LayoutView",
            "align_content": null,
            "align_items": null,
            "align_self": null,
            "border": null,
            "bottom": null,
            "display": null,
            "flex": null,
            "flex_flow": null,
            "grid_area": null,
            "grid_auto_columns": null,
            "grid_auto_flow": null,
            "grid_auto_rows": null,
            "grid_column": null,
            "grid_gap": null,
            "grid_row": null,
            "grid_template_areas": null,
            "grid_template_columns": null,
            "grid_template_rows": null,
            "height": null,
            "justify_content": null,
            "justify_items": null,
            "left": null,
            "margin": null,
            "max_height": null,
            "max_width": null,
            "min_height": null,
            "min_width": null,
            "object_fit": null,
            "object_position": null,
            "order": null,
            "overflow": null,
            "overflow_x": null,
            "overflow_y": null,
            "padding": null,
            "right": null,
            "top": null,
            "visibility": null,
            "width": null
          }
        },
        "888f354467024e3f8cafe5cb64d20723": {
          "model_module": "@jupyter-widgets/base",
          "model_name": "LayoutModel",
          "model_module_version": "1.2.0",
          "state": {
            "_model_module": "@jupyter-widgets/base",
            "_model_module_version": "1.2.0",
            "_model_name": "LayoutModel",
            "_view_count": null,
            "_view_module": "@jupyter-widgets/base",
            "_view_module_version": "1.2.0",
            "_view_name": "LayoutView",
            "align_content": null,
            "align_items": null,
            "align_self": null,
            "border": null,
            "bottom": null,
            "display": null,
            "flex": null,
            "flex_flow": null,
            "grid_area": null,
            "grid_auto_columns": null,
            "grid_auto_flow": null,
            "grid_auto_rows": null,
            "grid_column": null,
            "grid_gap": null,
            "grid_row": null,
            "grid_template_areas": null,
            "grid_template_columns": null,
            "grid_template_rows": null,
            "height": null,
            "justify_content": null,
            "justify_items": null,
            "left": null,
            "margin": null,
            "max_height": null,
            "max_width": null,
            "min_height": null,
            "min_width": null,
            "object_fit": null,
            "object_position": null,
            "order": null,
            "overflow": null,
            "overflow_x": null,
            "overflow_y": null,
            "padding": null,
            "right": null,
            "top": null,
            "visibility": null,
            "width": null
          }
        },
        "5f1e7b8dd32449c3912c07b850773fa0": {
          "model_module": "@jupyter-widgets/controls",
          "model_name": "DescriptionStyleModel",
          "model_module_version": "1.5.0",
          "state": {
            "_model_module": "@jupyter-widgets/controls",
            "_model_module_version": "1.5.0",
            "_model_name": "DescriptionStyleModel",
            "_view_count": null,
            "_view_module": "@jupyter-widgets/base",
            "_view_module_version": "1.2.0",
            "_view_name": "StyleView",
            "description_width": ""
          }
        },
        "26ee80b45fe1432382e70016afce2d50": {
          "model_module": "@jupyter-widgets/base",
          "model_name": "LayoutModel",
          "model_module_version": "1.2.0",
          "state": {
            "_model_module": "@jupyter-widgets/base",
            "_model_module_version": "1.2.0",
            "_model_name": "LayoutModel",
            "_view_count": null,
            "_view_module": "@jupyter-widgets/base",
            "_view_module_version": "1.2.0",
            "_view_name": "LayoutView",
            "align_content": null,
            "align_items": null,
            "align_self": null,
            "border": null,
            "bottom": null,
            "display": null,
            "flex": null,
            "flex_flow": null,
            "grid_area": null,
            "grid_auto_columns": null,
            "grid_auto_flow": null,
            "grid_auto_rows": null,
            "grid_column": null,
            "grid_gap": null,
            "grid_row": null,
            "grid_template_areas": null,
            "grid_template_columns": null,
            "grid_template_rows": null,
            "height": null,
            "justify_content": null,
            "justify_items": null,
            "left": null,
            "margin": null,
            "max_height": null,
            "max_width": null,
            "min_height": null,
            "min_width": null,
            "object_fit": null,
            "object_position": null,
            "order": null,
            "overflow": null,
            "overflow_x": null,
            "overflow_y": null,
            "padding": null,
            "right": null,
            "top": null,
            "visibility": null,
            "width": null
          }
        },
        "a4c181609bc94c31be4affbe7f964854": {
          "model_module": "@jupyter-widgets/controls",
          "model_name": "ProgressStyleModel",
          "model_module_version": "1.5.0",
          "state": {
            "_model_module": "@jupyter-widgets/controls",
            "_model_module_version": "1.5.0",
            "_model_name": "ProgressStyleModel",
            "_view_count": null,
            "_view_module": "@jupyter-widgets/base",
            "_view_module_version": "1.2.0",
            "_view_name": "StyleView",
            "bar_color": null,
            "description_width": ""
          }
        }
      }
    }
  },
  "nbformat": 4,
  "nbformat_minor": 0
}